{
 "metadata": {
  "language_info": {
   "codemirror_mode": {
    "name": "ipython",
    "version": 3
   },
   "file_extension": ".py",
   "mimetype": "text/x-python",
   "name": "python",
   "nbconvert_exporter": "python",
   "pygments_lexer": "ipython3",
   "version": "3.8.5-final"
  },
  "orig_nbformat": 2,
  "kernelspec": {
   "name": "python38564bitcc5751dd6265478b88625ba37acf6b42",
   "display_name": "Python 3.8.5 64-bit"
  },
  "metadata": {
   "interpreter": {
    "hash": "31f2aee4e71d21fbe5cf8b01ff0e069b9275f58929596ceb00d14d90e3e16cd6"
   }
  }
 },
 "nbformat": 4,
 "nbformat_minor": 2,
 "cells": [
  {
   "cell_type": "code",
   "execution_count": 1,
   "metadata": {},
   "outputs": [
    {
     "output_type": "stream",
     "text": [
      "\u001b[0;31mType:\u001b[0m        list\n",
      "\u001b[0;31mString form:\u001b[0m [0, 'tiepi', 0.345]\n",
      "\u001b[0;31mLength:\u001b[0m      3\n",
      "\u001b[0;31mDocstring:\u001b[0m  \n",
      "Built-in mutable sequence.\n",
      "\n",
      "If no argument is given, the constructor creates a new empty list.\n",
      "The argument must be an iterable if specified.\n"
     ],
     "name": "stdout"
    }
   ],
   "source": [
    "L01 = [0,'tiepi',0.345]\n",
    "L01?"
   ]
  },
  {
   "cell_type": "code",
   "execution_count": 2,
   "metadata": {},
   "outputs": [
    {
     "output_type": "stream",
     "name": "stdout",
     "text": [
      "function ouput istiepi\n"
     ]
    }
   ],
   "source": [
    "def test_function(str):\n",
    "    print('function ouput is'+str)\n",
    "test_function('tiepi')"
   ]
  },
  {
   "cell_type": "code",
   "execution_count": 3,
   "metadata": {},
   "outputs": [
    {
     "output_type": "stream",
     "text": [
      "\u001b[0;31mSignature:\u001b[0m \u001b[0mtest_function\u001b[0m\u001b[0;34m(\u001b[0m\u001b[0mstr\u001b[0m\u001b[0;34m)\u001b[0m\u001b[0;34m\u001b[0m\u001b[0;34m\u001b[0m\u001b[0m\n",
      "\u001b[0;31mDocstring:\u001b[0m <no docstring>\n",
      "\u001b[0;31mSource:\u001b[0m   \n",
      "\u001b[0;32mdef\u001b[0m \u001b[0mtest_function\u001b[0m\u001b[0;34m(\u001b[0m\u001b[0mstr\u001b[0m\u001b[0;34m)\u001b[0m\u001b[0;34m:\u001b[0m\u001b[0;34m\u001b[0m\n",
      "\u001b[0;34m\u001b[0m    \u001b[0mprint\u001b[0m\u001b[0;34m(\u001b[0m\u001b[0;34m'function ouput is'\u001b[0m\u001b[0;34m+\u001b[0m\u001b[0mstr\u001b[0m\u001b[0;34m)\u001b[0m\u001b[0;34m\u001b[0m\u001b[0;34m\u001b[0m\u001b[0m\n",
      "\u001b[0;31mFile:\u001b[0m      ~/桌面/Code/Python-DataScience/W1/<ipython-input-2-f1f73737235c>\n",
      "\u001b[0;31mType:\u001b[0m      function\n"
     ],
     "name": "stdout"
    }
   ],
   "source": [
    "test_function??"
   ]
  },
  {
   "cell_type": "code",
   "execution_count": 4,
   "metadata": {},
   "outputs": [
    {
     "output_type": "stream",
     "name": "stdout",
     "text": [
      "this is a cat\n"
     ]
    }
   ],
   "source": [
    "id = 5\n",
    "if id % 2 ==1:\n",
    "    print('this is a cat')\n",
    "else:\n",
    "    print('this is a dog')"
   ]
  },
  {
   "cell_type": "code",
   "execution_count": 5,
   "metadata": {},
   "outputs": [
    {
     "output_type": "stream",
     "name": "stdout",
     "text": [
      "45\nthis is a kind of animal\nthis is a dog\nthis is a kind of animal\nthis is a cat\nthis is a kind of animal\nthis is a dog\nthis is a kind of animal\nthis is a cat\nthis is a kind of animal\nthis is a dog\n"
     ]
    }
   ],
   "source": [
    "%run c1class.py"
   ]
  },
  {
   "cell_type": "code",
   "execution_count": 7,
   "metadata": {
    "tags": []
   },
   "outputs": [
    {
     "output_type": "stream",
     "name": "stdout",
     "text": [
      "3.03 ms ± 14.9 µs per loop (mean ± std. dev. of 7 runs, 100 loops each)\n"
     ]
    }
   ],
   "source": [
    "from c1class import judge_class\n",
    "from c1class import sum_int\n",
    "%timeit sum_int(50000)"
   ]
  },
  {
   "cell_type": "code",
   "execution_count": 8,
   "metadata": {},
   "outputs": [
    {
     "output_type": "stream",
     "name": "stdout",
     "text": [
      " "
     ]
    },
    {
     "output_type": "stream",
     "text": [
      "         4 function calls in 0.004 seconds\n",
      "\n",
      "   Ordered by: internal time\n",
      "\n",
      "   ncalls  tottime  percall  cumtime  percall filename:lineno(function)\n",
      "        1    0.004    0.004    0.004    0.004 c1class.py:13(sum_int)\n",
      "        1    0.000    0.000    0.004    0.004 {built-in method builtins.exec}\n",
      "        1    0.000    0.000    0.004    0.004 <string>:1(<module>)\n",
      "        1    0.000    0.000    0.000    0.000 {method 'disable' of '_lsprof.Profiler' objects}"
     ],
     "name": "stdout"
    }
   ],
   "source": [
    "%prun sum_int(50000)\n",
    "# prun shows per modules detail"
   ]
  },
  {
   "cell_type": "code",
   "execution_count": 10,
   "metadata": {},
   "outputs": [
    {
     "output_type": "stream",
     "name": "stdout",
     "text": [
      "The line_profiler extension is already loaded. To reload it, use:\n",
      "  %reload_ext line_profiler\n",
      "/home/xiaotongfeng/.local/lib/python3.8/site-packages/line_profiler/line_profiler.py:328: UserWarning: Could not extract a code object for the object 7500\n",
      "  profile = LineProfiler(*funcs)\n"
     ]
    },
    {
     "output_type": "stream",
     "text": [
      "Timer unit: 1e-06 s"
     ],
     "name": "stdout"
    }
   ],
   "source": [
    "# 如果没有line_profiler包需要先安装\n",
    "# pip install line_profiler\n",
    "%load_ext line_profiler\n"
   ]
  },
  {
   "cell_type": "code",
   "execution_count": 12,
   "metadata": {},
   "outputs": [
    {
     "output_type": "stream",
     "text": [
      "Timer unit: 1e-06 s\n",
      "\n",
      "Total time: 0.006289 s\n",
      "File: /home/xiaotongfeng/桌面/Code/Python-DataScience/W1/c1class.py\n",
      "Function: sum_int at line 13\n",
      "\n",
      "Line #      Hits         Time  Per Hit   % Time  Line Contents\n",
      "==============================================================\n",
      "    13                                           def sum_int(n):\n",
      "    14         1          2.0      2.0      0.0      res = 0\n",
      "    15      5001       1759.0      0.4     28.0      for ii in range(n):\n",
      "    16      5000       1885.0      0.4     30.0          res = res + ii \n",
      "    17      5000       1766.0      0.4     28.1          if res > 10000:\n",
      "    18      1249        877.0      0.7     13.9              res = res -10000\n",
      "    19         1          0.0      0.0      0.0      return res"
     ],
     "name": "stdout"
    }
   ],
   "source": [
    "%lprun -f sum_int sum_int(5000)\n",
    "# run report"
   ]
  },
  {
   "cell_type": "code",
   "execution_count": 13,
   "metadata": {},
   "outputs": [],
   "source": [
    "# first pip install memory_profiler\n",
    "%load_ext memory_profiler"
   ]
  },
  {
   "cell_type": "code",
   "execution_count": 14,
   "metadata": {},
   "outputs": [
    {
     "output_type": "stream",
     "name": "stdout",
     "text": [
      "peak memory: 77.46 MiB, increment: 0.20 MiB\n"
     ]
    }
   ],
   "source": [
    "%memit sum_int(50000)"
   ]
  },
  {
   "cell_type": "code",
   "execution_count": 17,
   "metadata": {},
   "outputs": [
    {
     "output_type": "stream",
     "name": "stdout",
     "text": [
      "\n"
     ]
    },
    {
     "output_type": "stream",
     "text": [
      "Filename: /home/xiaotongfeng/桌面/Code/Python-DataScience/W1/c1class.py\n",
      "\n",
      "Line #    Mem usage    Increment  Occurences   Line Contents\n",
      "============================================================\n",
      "    13     78.2 MiB     78.2 MiB           1   def sum_int(n):\n",
      "    14     78.2 MiB      0.0 MiB           1       res = 0\n",
      "    15     78.2 MiB      0.0 MiB       50001       for ii in range(n):\n",
      "    16     78.2 MiB      0.0 MiB       50000           res = res + ii \n",
      "    17     78.2 MiB      0.0 MiB       50000           if res > 10000:\n",
      "    18     78.2 MiB      0.0 MiB       44999               res = res -10000\n",
      "    19     78.2 MiB      0.0 MiB           1       return res"
     ],
     "name": "stdout"
    }
   ],
   "source": [
    "%mprun -f sum_int sum_int(50000)"
   ]
  },
  {
   "cell_type": "code",
   "execution_count": null,
   "metadata": {},
   "outputs": [],
   "source": []
  }
 ]
}